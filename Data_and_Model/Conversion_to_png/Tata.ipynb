version https://git-lfs.github.com/spec/v1
oid sha256:6905c8ef1b98911853cb34cacc945356b4d26f74473931271535e965525d772b
size 840228
