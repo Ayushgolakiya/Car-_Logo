version https://git-lfs.github.com/spec/v1
oid sha256:33b5b890150e633906fa66cb6e9ffd66f40776ca42fd5ebdb3d5d8b5bcb3ab25
size 792492
