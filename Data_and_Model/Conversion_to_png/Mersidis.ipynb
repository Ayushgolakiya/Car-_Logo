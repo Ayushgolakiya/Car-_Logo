version https://git-lfs.github.com/spec/v1
oid sha256:4f2bdd7ebadb867addcb627577dbe1bd62ca404638f3d929d1015530f08bf90a
size 1421409
