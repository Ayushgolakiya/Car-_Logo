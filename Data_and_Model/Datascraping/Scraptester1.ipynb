version https://git-lfs.github.com/spec/v1
oid sha256:7f71e19b2c8a943f824e3b7945e683f595c53ec6426c36d27004a2b3a5603bec
size 394195
