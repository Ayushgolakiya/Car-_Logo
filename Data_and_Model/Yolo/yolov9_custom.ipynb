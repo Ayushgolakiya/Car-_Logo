version https://git-lfs.github.com/spec/v1
oid sha256:008aa1b6d98d03d0ed116e2a2e5eb7a72cfea899d96b376b3ff615ded3c056ee
size 1728116
